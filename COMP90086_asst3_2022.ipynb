{
 "cells": [
  {
   "cell_type": "markdown",
   "metadata": {},
   "source": [
    "### The University of Melbourne, School of Computing and Information Systems\n",
    "# COMP90086 Computer Vision, 2022 Semester 2\n",
    "\n",
    "## Assignment 1"
   ]
  },
  {
   "cell_type": "markdown",
   "metadata": {},
   "source": [
    "**Student Name:**    `Jiacheng Wang`\n",
    "\n",
    "**Student ID:**     `1292534`"
   ]
  },
  {
   "cell_type": "markdown",
   "metadata": {},
   "source": [
    "This iPython notebook is a template which you should use for your Assignment 3 submission. This file should be submitted at the **Assignment 3: Code** link on the LMS, along with any images needed to run your code.\n",
    "\n",
    "In addition to this file, you should submit a writren report explaining your results at the **Assignment 3: Report** link on the LMS. Please see the assignment specification for details on what must be included in the report for each question.\n",
    "\n",
    "*Adding proper comments to your code is MANDATORY.*"
   ]
  },
  {
   "cell_type": "markdown",
   "metadata": {},
   "source": [
    "### 1. Load images and compute correspondences\n"
   ]
  },
  {
   "cell_type": "code",
   "execution_count": null,
   "metadata": {},
   "outputs": [],
   "source": [
    "#import images from kusvod dataset\n",
    "import os\n",
    "import numpy as np\n",
    "import matplotlib.pyplot as plt\n",
    "import cv2\n",
    "import random\n",
    "import tensorflow as tf\n",
    "\n",
    "#load images from kusvod2 dataset\n",
    "images = []\n",
    "for filename in os.listdir('kusvod2'):\n",
    "    img = cv2.imread(os.path.join('kusvod2',filename))\n",
    "    if img is not None:\n",
    "        images.append(img)\n",
    "\n",
    "#create grayscale image list\n",
    "gray_images = []\n",
    "for i in range(len(images)):\n",
    "    gray_images.append(cv2.cvtColor(images[i], cv2.COLOR_BGR2GRAY))\n",
    "\n"
   ]
  },
  {
   "cell_type": "code",
   "execution_count": 6,
   "metadata": {},
   "outputs": [
    {
     "ename": "KeyboardInterrupt",
     "evalue": "",
     "output_type": "error",
     "traceback": [
      "\u001b[0;31m---------------------------------------------------------------------------\u001b[0m",
      "\u001b[0;31mKeyboardInterrupt\u001b[0m                         Traceback (most recent call last)",
      "\u001b[1;32m/Users/jc/Documents/GitHub/CV_AS3/COMP90086_asst3_2022.ipynb Cell 6\u001b[0m in \u001b[0;36m<cell line: 17>\u001b[0;34m()\u001b[0m\n\u001b[1;32m     <a href='vscode-notebook-cell:/Users/jc/Documents/GitHub/CV_AS3/COMP90086_asst3_2022.ipynb#X13sZmlsZQ%3D%3D?line=17'>18</a>\u001b[0m     \u001b[39mfor\u001b[39;00m j \u001b[39min\u001b[39;00m \u001b[39mrange\u001b[39m(\u001b[39mlen\u001b[39m(descriptors)):\n\u001b[1;32m     <a href='vscode-notebook-cell:/Users/jc/Documents/GitHub/CV_AS3/COMP90086_asst3_2022.ipynb#X13sZmlsZQ%3D%3D?line=18'>19</a>\u001b[0m         \u001b[39mif\u001b[39;00m i \u001b[39m!=\u001b[39m j:\n\u001b[0;32m---> <a href='vscode-notebook-cell:/Users/jc/Documents/GitHub/CV_AS3/COMP90086_asst3_2022.ipynb#X13sZmlsZQ%3D%3D?line=19'>20</a>\u001b[0m             matches\u001b[39m.\u001b[39mappend(bf\u001b[39m.\u001b[39;49mknnMatch(descriptors[i], descriptors[j], k\u001b[39m=\u001b[39;49m\u001b[39m2\u001b[39;49m))\n\u001b[1;32m     <a href='vscode-notebook-cell:/Users/jc/Documents/GitHub/CV_AS3/COMP90086_asst3_2022.ipynb#X13sZmlsZQ%3D%3D?line=21'>22</a>\u001b[0m \u001b[39m#find good matches\u001b[39;00m\n\u001b[1;32m     <a href='vscode-notebook-cell:/Users/jc/Documents/GitHub/CV_AS3/COMP90086_asst3_2022.ipynb#X13sZmlsZQ%3D%3D?line=22'>23</a>\u001b[0m good_matches \u001b[39m=\u001b[39m []\n",
      "\u001b[0;31mKeyboardInterrupt\u001b[0m: "
     ]
    }
   ],
   "source": [
    "#find keypoints in grayscale images\n",
    "sift = cv2.xfeatures2d.SIFT_create()\n",
    "keypoints = []\n",
    "for i in range(len(gray_images)):\n",
    "    kp, des = sift.detectAndCompute(gray_images[i], None)\n",
    "    keypoints.append(kp)\n",
    "\n",
    "#find descriptors in grayscale images\n",
    "descriptors = []\n",
    "for i in range(len(gray_images)):\n",
    "    kp, des = sift.detectAndCompute(gray_images[i], None)\n",
    "    descriptors.append(des)\n",
    "\n",
    "\n",
    "\n"
   ]
  },
  {
   "cell_type": "code",
   "execution_count": null,
   "metadata": {},
   "outputs": [],
   "source": [
    "#plot  all images\n",
    "fig, ax = plt.subplots(5, 5, figsize=(10, 10))\n",
    "for i, axi in enumerate(ax.flat):\n",
    "    axi.imshow(images[i])\n",
    "    axi.set(xticks=[], yticks=[])\n",
    "plt.show()\n"
   ]
  },
  {
   "cell_type": "markdown",
   "metadata": {},
   "source": [
    "### 2. Compute the Fundamental Matrix F using the 8 point algorithm"
   ]
  },
  {
   "cell_type": "code",
   "execution_count": null,
   "metadata": {},
   "outputs": [],
   "source": []
  },
  {
   "cell_type": "markdown",
   "metadata": {},
   "source": [
    "### 3. Randomly sample 10 correspondences and display images, corresponding points and epipolar lines"
   ]
  },
  {
   "cell_type": "code",
   "execution_count": null,
   "metadata": {},
   "outputs": [],
   "source": []
  }
 ],
 "metadata": {
  "kernelspec": {
   "display_name": "Python 3.10.6 ('CV')",
   "language": "python",
   "name": "python3"
  },
  "language_info": {
   "codemirror_mode": {
    "name": "ipython",
    "version": 3
   },
   "file_extension": ".py",
   "mimetype": "text/x-python",
   "name": "python",
   "nbconvert_exporter": "python",
   "pygments_lexer": "ipython3",
   "version": "3.10.6"
  },
  "vscode": {
   "interpreter": {
    "hash": "9563c21e2246d30c17eee537fc82eb5a8b28d7639b48b7c9a9fa6253fd64ec2d"
   }
  }
 },
 "nbformat": 4,
 "nbformat_minor": 4
}
