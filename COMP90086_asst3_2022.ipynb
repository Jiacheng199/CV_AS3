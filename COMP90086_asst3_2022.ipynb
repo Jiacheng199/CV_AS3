{
 "cells": [
  {
   "cell_type": "markdown",
   "metadata": {},
   "source": [
    "### The University of Melbourne, School of Computing and Information Systems\n",
    "# COMP90086 Computer Vision, 2022 Semester 2\n",
    "\n",
    "## Assignment 1"
   ]
  },
  {
   "cell_type": "markdown",
   "metadata": {},
   "source": [
    "**Student Name:**    `Jiacheng Wang`\n",
    "\n",
    "**Student ID:**     `1292534`"
   ]
  },
  {
   "cell_type": "markdown",
   "metadata": {},
   "source": [
    "This iPython notebook is a template which you should use for your Assignment 3 submission. This file should be submitted at the **Assignment 3: Code** link on the LMS, along with any images needed to run your code.\n",
    "\n",
    "In addition to this file, you should submit a writren report explaining your results at the **Assignment 3: Report** link on the LMS. Please see the assignment specification for details on what must be included in the report for each question.\n",
    "\n",
    "*Adding proper comments to your code is MANDATORY.*"
   ]
  },
  {
   "cell_type": "markdown",
   "metadata": {},
   "source": [
    "### 1. Load images and compute correspondences\n"
   ]
  },
  {
   "cell_type": "code",
   "execution_count": 8,
   "metadata": {},
   "outputs": [],
   "source": [
    "#import images from kusvod dataset\n",
    "import os\n",
    "import numpy as np\n",
    "import matplotlib.pyplot as plt\n",
    "import cv2\n",
    "import random\n",
    "\n",
    "#load images\n",
    "def load_images_from_folder(folder):\n",
    "    images = []\n",
    "    for filename in os.listdir(folder):\n",
    "        img = cv2.imread(os.path.join(folder,filename))\n",
    "        if img is not None:\n",
    "            images.append(img)\n",
    "    return images\n",
    "\n",
    "#finding the features of images\n",
    "def find_features(images):\n",
    "    features = []\n",
    "    for i in range(0, len(images)):\n",
    "        #convert to grayscale\n",
    "        gray = cv2.cvtColor(images[i], cv2.COLOR_BGR2GRAY)\n",
    "        #find corners\n",
    "        corners = cv2.goodFeaturesToTrack(gray, 100, 0.01, 10)\n",
    "        corners = np.int0(corners)\n",
    "        #find the features\n",
    "        for corner in corners:\n",
    "            x,y = corner.ravel()\n",
    "            features.append([x,y])\n",
    "    return features\n",
    "\n",
    "\n",
    "images = load_images_from_folder('kusvod2')\n",
    "\n",
    "#find features\n",
    "features = find_features(images)\n",
    "\n",
    "\n",
    "\n"
   ]
  },
  {
   "cell_type": "markdown",
   "metadata": {},
   "source": [
    "### 2. Compute the Fundamental Matrix F using the 8 point algorithm"
   ]
  },
  {
   "cell_type": "code",
   "execution_count": null,
   "metadata": {},
   "outputs": [],
   "source": []
  },
  {
   "cell_type": "markdown",
   "metadata": {},
   "source": [
    "### 3. Randomly sample 10 correspondences and display images, corresponding points and epipolar lines"
   ]
  },
  {
   "cell_type": "code",
   "execution_count": null,
   "metadata": {},
   "outputs": [],
   "source": []
  }
 ],
 "metadata": {
  "kernelspec": {
   "display_name": "Python 3.9.7 ('base')",
   "language": "python",
   "name": "python3"
  },
  "language_info": {
   "codemirror_mode": {
    "name": "ipython",
    "version": 3
   },
   "file_extension": ".py",
   "mimetype": "text/x-python",
   "name": "python",
   "nbconvert_exporter": "python",
   "pygments_lexer": "ipython3",
   "version": "3.9.7"
  },
  "vscode": {
   "interpreter": {
    "hash": "4fb6f22b9ea3684756870944b5f3fb664fed3c82022a08a9b2c6685fd75d4878"
   }
  }
 },
 "nbformat": 4,
 "nbformat_minor": 4
}
