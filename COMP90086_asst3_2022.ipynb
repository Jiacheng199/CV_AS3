{
 "cells": [
  {
   "cell_type": "markdown",
   "metadata": {},
   "source": [
    "### The University of Melbourne, School of Computing and Information Systems\n",
    "# COMP90086 Computer Vision, 2022 Semester 2\n",
    "\n",
    "## Assignment 1"
   ]
  },
  {
   "cell_type": "markdown",
   "metadata": {},
   "source": [
    "**Student Name:**    `Jiacheng Wang`\n",
    "\n",
    "**Student ID:**     `1292534`"
   ]
  },
  {
   "cell_type": "markdown",
   "metadata": {},
   "source": [
    "This iPython notebook is a template which you should use for your Assignment 3 submission. This file should be submitted at the **Assignment 3: Code** link on the LMS, along with any images needed to run your code.\n",
    "\n",
    "In addition to this file, you should submit a writren report explaining your results at the **Assignment 3: Report** link on the LMS. Please see the assignment specification for details on what must be included in the report for each question.\n",
    "\n",
    "*Adding proper comments to your code is MANDATORY.*"
   ]
  },
  {
   "cell_type": "markdown",
   "metadata": {},
   "source": [
    "### 1. Load images and compute correspondences\n"
   ]
  },
  {
   "cell_type": "code",
   "execution_count": 9,
   "metadata": {},
   "outputs": [
    {
     "name": "stdout",
     "output_type": "stream",
     "text": [
      "Kyoto_vpts.mat\n",
      "valbonne_vpts.mat\n",
      "boxA.png\n",
      "booksh_vpts.mat\n",
      "corr_vpts.mat\n",
      "boxB.png\n",
      "head_vpts.mat\n",
      "bookshB.png\n",
      "rotunda_vpts.mat\n",
      "wall_vpts.mat\n",
      "bookshA.png\n",
      "plant_vpts.mat\n",
      "shout_vpts.mat\n",
      "headA.jpg\n",
      "corrB.png\n",
      "box_vpts.mat\n",
      "leafs_vpts.mat\n",
      "castleB.png\n",
      "wallA.jpg\n",
      "headB.jpg\n",
      "corrA.png\n",
      "inputHA16.mat\n",
      "castleA.png\n",
      "wallB.jpg\n",
      "leafsB.jpg\n",
      "wash_vpts.mat\n",
      "zoom_vpts.mat\n",
      "leafsA.jpg\n",
      "castle_vpts.mat\n",
      "inputHA4.mat\n",
      "input.mat\n",
      "makeInput.m\n",
      "plantA.png\n",
      "rotundaB.png\n",
      "graff_vpts.mat\n",
      "plantB.png\n",
      "rotundaA.png\n",
      "README.txt\n",
      "washA.png\n",
      "kampa_vpts.mat\n",
      "washB.png\n",
      "KyotoB.jpg\n",
      "shoutA.png\n",
      "zoomB.png\n",
      "graffA.png\n",
      "kampaB.png\n",
      "valbonneA.png\n",
      "KyotoA.jpg\n",
      "shoutB.png\n",
      "graffB.png\n",
      "zoomA.png\n",
      "kampaA.png\n",
      "valbonneB.png\n"
     ]
    }
   ],
   "source": [
    "#import images from kusvod dataset\n",
    "import os\n",
    "import numpy as np\n",
    "import matplotlib.pyplot as plt\n",
    "import cv2\n",
    "import random\n",
    "\n",
    "#load images\n",
    "def load_images_from_folder(folder):\n",
    "    images = []\n",
    "    for filename in os.listdir(folder):\n",
    "        print(filename)\n",
    "        #if two file share the same name, then load the second one\n",
    "        if filename.endswith(\".jpg\"):\n",
    "            img = cv2.imread(os.path.join(folder,filename))\n",
    "            if img is not None:\n",
    "                images.append(img)\n",
    "    return images\n",
    "\n",
    "#finding the features of images\n",
    "def find_features(images):\n",
    "    features = []\n",
    "    for i in range(0, len(images)):\n",
    "        #convert to grayscale\n",
    "        gray = cv2.cvtColor(images[i], cv2.COLOR_BGR2GRAY)\n",
    "        #find corners\n",
    "        corners = cv2.goodFeaturesToTrack(gray, 100, 0.01, 10)\n",
    "        corners = np.int0(corners)\n",
    "        #find the features\n",
    "        for corner in corners:\n",
    "            x,y = corner.ravel()\n",
    "            features.append([x,y])\n",
    "    return features\n",
    "\n",
    "\n",
    "images = load_images_from_folder('kusvod2')\n",
    "\n",
    "#find features\n",
    "features = find_features(images)\n",
    "\n",
    "#eight points algorithm\n",
    "def eight_points_algorithm(features):\n",
    "    #randomly select 8 points\n",
    "    random.shuffle(features)\n",
    "    #find the homography matrix\n",
    "    A = []\n",
    "    for i in range(0, 8):\n",
    "        x = features[i][0]\n",
    "        y = features[i][1]\n",
    "        A.append([x, y, 1, 0, 0, 0, -x*x, -x*y, -x])\n",
    "        A.append([0, 0, 0, x, y, 1, -y*x, -y*y, -y])\n",
    "    A = np.array(A)\n",
    "    U, S, V = np.linalg.svd(A)\n",
    "    H = V[-1].reshape(3,3)\n",
    "    return H\n",
    "\n"
   ]
  },
  {
   "cell_type": "markdown",
   "metadata": {},
   "source": [
    "### 2. Compute the Fundamental Matrix F using the 8 point algorithm"
   ]
  },
  {
   "cell_type": "code",
   "execution_count": null,
   "metadata": {},
   "outputs": [],
   "source": []
  },
  {
   "cell_type": "markdown",
   "metadata": {},
   "source": [
    "### 3. Randomly sample 10 correspondences and display images, corresponding points and epipolar lines"
   ]
  },
  {
   "cell_type": "code",
   "execution_count": null,
   "metadata": {},
   "outputs": [],
   "source": []
  }
 ],
 "metadata": {
  "kernelspec": {
   "display_name": "Python 3.9.7 ('base')",
   "language": "python",
   "name": "python3"
  },
  "language_info": {
   "codemirror_mode": {
    "name": "ipython",
    "version": 3
   },
   "file_extension": ".py",
   "mimetype": "text/x-python",
   "name": "python",
   "nbconvert_exporter": "python",
   "pygments_lexer": "ipython3",
   "version": "3.9.7"
  },
  "vscode": {
   "interpreter": {
    "hash": "4fb6f22b9ea3684756870944b5f3fb664fed3c82022a08a9b2c6685fd75d4878"
   }
  }
 },
 "nbformat": 4,
 "nbformat_minor": 4
}
